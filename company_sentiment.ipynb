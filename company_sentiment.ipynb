{
 "cells": [
  {
   "cell_type": "code",
   "execution_count": 2,
   "source": [
    "import numpy as np\n",
    "import pandas as pd\n",
    "import datetime as datetime\n",
    "from datetime import datetime\n",
    "import requests\n",
    "import os\n",
    "import json\n",
    "from dotenv import load_dotenv\n",
    "import matplotlib\n",
    "import matplotlib.pyplot as plt\n",
    "import warnings\n",
    "from newsapi import NewsApiClient\n",
    "import nltk\n",
    "from nltk.sentiment.vader import SentimentIntensityAnalyzer\n",
    "nltk.download('vader_lexicon')\n",
    "analyzer = SentimentIntensityAnalyzer()\n",
    "\n",
    "warnings.filterwarnings(\"ignore\")\n",
    "%matplotlib_inline"
   ],
   "outputs": [
    {
     "output_type": "stream",
     "name": "stderr",
     "text": [
      "[nltk_data] Downloading package vader_lexicon to\n",
      "[nltk_data]     /Users/draganbogatic/nltk_data...\n",
      "[nltk_data]   Package vader_lexicon is already up-to-date!\n",
      "UsageError: Line magic function `%matplotlib_inline` not found.\n"
     ]
    }
   ],
   "metadata": {}
  },
  {
   "cell_type": "code",
   "execution_count": 6,
   "source": [
    "load_dotenv()"
   ],
   "outputs": [
    {
     "output_type": "execute_result",
     "data": {
      "text/plain": [
       "True"
      ]
     },
     "metadata": {},
     "execution_count": 6
    }
   ],
   "metadata": {}
  },
  {
   "cell_type": "code",
   "execution_count": 7,
   "source": [
    "FMP_API_KEY = os.getenv('FMP_API_KEY')"
   ],
   "outputs": [],
   "metadata": {}
  },
  {
   "cell_type": "code",
   "execution_count": 8,
   "source": [
    "company = 'TSM'"
   ],
   "outputs": [],
   "metadata": {}
  },
  {
   "cell_type": "code",
   "execution_count": 388,
   "source": [
    "# Pull company articles\n",
    "url = f'https://financialmodelingprep.com/api/v3/stock_news?tickers={company}&limit=100&apikey={FMP_API_KEY}'\n",
    "articles = requests.get(url).json()\n",
    "articles = pd.DataFrame(articles)\n",
    "articles['publishedDate'] = pd.to_datetime(articles['publishedDate'])\n",
    "articles.head(1)"
   ],
   "outputs": [
    {
     "output_type": "execute_result",
     "data": {
      "text/html": [
       "<div>\n",
       "<style scoped>\n",
       "    .dataframe tbody tr th:only-of-type {\n",
       "        vertical-align: middle;\n",
       "    }\n",
       "\n",
       "    .dataframe tbody tr th {\n",
       "        vertical-align: top;\n",
       "    }\n",
       "\n",
       "    .dataframe thead th {\n",
       "        text-align: right;\n",
       "    }\n",
       "</style>\n",
       "<table border=\"1\" class=\"dataframe\">\n",
       "  <thead>\n",
       "    <tr style=\"text-align: right;\">\n",
       "      <th></th>\n",
       "      <th>symbol</th>\n",
       "      <th>publishedDate</th>\n",
       "      <th>title</th>\n",
       "      <th>image</th>\n",
       "      <th>site</th>\n",
       "      <th>text</th>\n",
       "      <th>url</th>\n",
       "    </tr>\n",
       "  </thead>\n",
       "  <tbody>\n",
       "    <tr>\n",
       "      <th>0</th>\n",
       "      <td>TSM</td>\n",
       "      <td>2021-09-27 19:10:18</td>\n",
       "      <td>TSMC (TSM) Gains As Market Dips: What You Shou...</td>\n",
       "      <td>https://cdn.snapi.dev/images/v1/d/f/semi1-1024...</td>\n",
       "      <td>Zacks Investment Research</td>\n",
       "      <td>TSMC (TSM) closed the most recent trading day ...</td>\n",
       "      <td>https://www.zacks.com/stock/news/1801535/tsmc-...</td>\n",
       "    </tr>\n",
       "  </tbody>\n",
       "</table>\n",
       "</div>"
      ],
      "text/plain": [
       "  symbol       publishedDate  \\\n",
       "0    TSM 2021-09-27 19:10:18   \n",
       "\n",
       "                                               title  \\\n",
       "0  TSMC (TSM) Gains As Market Dips: What You Shou...   \n",
       "\n",
       "                                               image  \\\n",
       "0  https://cdn.snapi.dev/images/v1/d/f/semi1-1024...   \n",
       "\n",
       "                        site  \\\n",
       "0  Zacks Investment Research   \n",
       "\n",
       "                                                text  \\\n",
       "0  TSMC (TSM) closed the most recent trading day ...   \n",
       "\n",
       "                                                 url  \n",
       "0  https://www.zacks.com/stock/news/1801535/tsmc-...  "
      ]
     },
     "metadata": {},
     "execution_count": 388
    }
   ],
   "metadata": {}
  },
  {
   "cell_type": "code",
   "execution_count": 389,
   "source": [
    "# Preview articles\n",
    "articles['text'][:10]"
   ],
   "outputs": [
    {
     "output_type": "execute_result",
     "data": {
      "text/plain": [
       "0    TSMC (TSM) closed the most recent trading day ...\n",
       "1    Taiwan's TSMC said on Friday it is actively su...\n",
       "2    It's rare for a stock to be able to achieve av...\n",
       "3    Samsung Electronics Co Ltd (OTC: SSNLF) won a ...\n",
       "4    TSMC (TSM) closed at $114.96 in the latest tra...\n",
       "5    Since our previous analysis, we analyzed the p...\n",
       "6    Donaldson: One Of The Best Dividend Aristocrat...\n",
       "7    These three stocks already have established a ...\n",
       "8     VT: A Gold Standard ETF That Gives You The World\n",
       "9    HSINCHU, Taiwan--(BUSINESS WIRE)--TSMC Commits...\n",
       "Name: text, dtype: object"
      ]
     },
     "metadata": {},
     "execution_count": 389
    }
   ],
   "metadata": {}
  },
  {
   "cell_type": "code",
   "execution_count": 390,
   "source": [
    "# Calculate sentoment scores for articles\n",
    "scores = []\n",
    "text = articles['text']\n",
    "\n",
    "for txt in text:\n",
    "\n",
    "    vs = analyzer.polarity_scores(txt)\n",
    "    scores.append(vs)\n",
    "\n",
    "text_df = pd.DataFrame(text, columns=['text'])\n",
    "scores_df = pd.DataFrame(scores)\n",
    "sentiment_df = pd.concat([text_df, scores_df], axis=1)\n",
    "\n",
    "combined_df = pd.concat([sentiment_df,articles],axis=1)\n",
    "combined_df = combined_df.T.drop_duplicates().T.set_index('publishedDate')\n",
    "combined_df.head(1)\n"
   ],
   "outputs": [
    {
     "output_type": "execute_result",
     "data": {
      "text/html": [
       "<div>\n",
       "<style scoped>\n",
       "    .dataframe tbody tr th:only-of-type {\n",
       "        vertical-align: middle;\n",
       "    }\n",
       "\n",
       "    .dataframe tbody tr th {\n",
       "        vertical-align: top;\n",
       "    }\n",
       "\n",
       "    .dataframe thead th {\n",
       "        text-align: right;\n",
       "    }\n",
       "</style>\n",
       "<table border=\"1\" class=\"dataframe\">\n",
       "  <thead>\n",
       "    <tr style=\"text-align: right;\">\n",
       "      <th></th>\n",
       "      <th>text</th>\n",
       "      <th>neg</th>\n",
       "      <th>neu</th>\n",
       "      <th>pos</th>\n",
       "      <th>compound</th>\n",
       "      <th>symbol</th>\n",
       "      <th>title</th>\n",
       "      <th>image</th>\n",
       "      <th>site</th>\n",
       "      <th>url</th>\n",
       "    </tr>\n",
       "    <tr>\n",
       "      <th>publishedDate</th>\n",
       "      <th></th>\n",
       "      <th></th>\n",
       "      <th></th>\n",
       "      <th></th>\n",
       "      <th></th>\n",
       "      <th></th>\n",
       "      <th></th>\n",
       "      <th></th>\n",
       "      <th></th>\n",
       "      <th></th>\n",
       "    </tr>\n",
       "  </thead>\n",
       "  <tbody>\n",
       "    <tr>\n",
       "      <th>2021-09-27 19:10:18</th>\n",
       "      <td>TSMC (TSM) closed the most recent trading day ...</td>\n",
       "      <td>0</td>\n",
       "      <td>1</td>\n",
       "      <td>0</td>\n",
       "      <td>0</td>\n",
       "      <td>TSM</td>\n",
       "      <td>TSMC (TSM) Gains As Market Dips: What You Shou...</td>\n",
       "      <td>https://cdn.snapi.dev/images/v1/d/f/semi1-1024...</td>\n",
       "      <td>Zacks Investment Research</td>\n",
       "      <td>https://www.zacks.com/stock/news/1801535/tsmc-...</td>\n",
       "    </tr>\n",
       "  </tbody>\n",
       "</table>\n",
       "</div>"
      ],
      "text/plain": [
       "                                                                  text neg  \\\n",
       "publishedDate                                                                \n",
       "2021-09-27 19:10:18  TSMC (TSM) closed the most recent trading day ...   0   \n",
       "\n",
       "                    neu pos compound symbol  \\\n",
       "publishedDate                                 \n",
       "2021-09-27 19:10:18   1   0        0    TSM   \n",
       "\n",
       "                                                                 title  \\\n",
       "publishedDate                                                            \n",
       "2021-09-27 19:10:18  TSMC (TSM) Gains As Market Dips: What You Shou...   \n",
       "\n",
       "                                                                 image  \\\n",
       "publishedDate                                                            \n",
       "2021-09-27 19:10:18  https://cdn.snapi.dev/images/v1/d/f/semi1-1024...   \n",
       "\n",
       "                                          site  \\\n",
       "publishedDate                                    \n",
       "2021-09-27 19:10:18  Zacks Investment Research   \n",
       "\n",
       "                                                                   url  \n",
       "publishedDate                                                           \n",
       "2021-09-27 19:10:18  https://www.zacks.com/stock/news/1801535/tsmc-...  "
      ]
     },
     "metadata": {},
     "execution_count": 390
    }
   ],
   "metadata": {}
  },
  {
   "cell_type": "code",
   "execution_count": 392,
   "source": [
    "# Plot mean sentiment\n",
    "scores_df['symbol'] = company\n",
    "scores_df\n",
    "scores_mean = scores_df.groupby('symbol').mean()\n",
    "print(scores_mean)\n",
    "scores_mean.plot.bar(figsize=(12,6),title=f'{company} Sentiment Analysis',ylabel='sentiment', rot=0)"
   ],
   "outputs": [
    {
     "output_type": "stream",
     "name": "stdout",
     "text": [
      "            neg      neu      pos  compound\n",
      "symbol                                     \n",
      "TSM     0.03037  0.86156  0.10805  0.222318\n"
     ]
    },
    {
     "output_type": "execute_result",
     "data": {
      "text/plain": [
       "<AxesSubplot:title={'center':'TSM Sentiment Analysis'}, xlabel='symbol', ylabel='sentiment'>"
      ]
     },
     "metadata": {},
     "execution_count": 392
    },
    {
     "output_type": "display_data",
     "data": {
      "image/png": "[encoded data removed]",
      "text/plain": [
       "<Figure size 864x432 with 1 Axes>"
      ]
     },
     "metadata": {
      "needs_background": "light"
     }
    }
   ],
   "metadata": {}
  }
 ],
 "metadata": {
  "orig_nbformat": 4,
  "language_info": {
   "name": "python",
   "version": "3.7.9",
   "mimetype": "text/x-python",
   "codemirror_mode": {
    "name": "ipython",
    "version": 3
   },
   "pygments_lexer": "ipython3",
   "nbconvert_exporter": "python",
   "file_extension": ".py"
  },
  "kernelspec": {
   "name": "python3",
   "display_name": "Python 3.7.9 64-bit ('algotrading': conda)"
  },
  "interpreter": {
   "hash": "1d1365bc7bea9ca53bbaaff2a498c5cc15b63a6fcc47bade387e2edfe7e7b068"
  }
 },
 "nbformat": 4,
 "nbformat_minor": 2
}